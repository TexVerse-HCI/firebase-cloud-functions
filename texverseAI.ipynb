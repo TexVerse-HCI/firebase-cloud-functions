{
 "cells": [
  {
   "cell_type": "code",
   "execution_count": 7,
   "metadata": {},
   "outputs": [
    {
     "name": "stderr",
     "output_type": "stream",
     "text": [
      "/Users/pengyuecheng/Documents/UW/TECHIN 510/final/.venv/lib/python3.9/site-packages/pinecone/data/index.py:1: TqdmWarning: IProgress not found. Please update jupyter and ipywidgets. See https://ipywidgets.readthedocs.io/en/stable/user_install.html\n",
      "  from tqdm.autonotebook import tqdm\n"
     ]
    },
    {
     "ename": "PineconeConfigurationError",
     "evalue": "You haven't specified an Api-Key.",
     "output_type": "error",
     "traceback": [
      "\u001b[0;31m---------------------------------------------------------------------------\u001b[0m",
      "\u001b[0;31mPineconeConfigurationError\u001b[0m                Traceback (most recent call last)",
      "Cell \u001b[0;32mIn[7], line 24\u001b[0m\n\u001b[1;32m     21\u001b[0m question_vector \u001b[38;5;241m=\u001b[39m response\u001b[38;5;241m.\u001b[39mdata[\u001b[38;5;241m0\u001b[39m]\u001b[38;5;241m.\u001b[39membedding\n\u001b[1;32m     23\u001b[0m \u001b[38;5;66;03m# use Pinecone to search for the most relevant papers\u001b[39;00m\n\u001b[0;32m---> 24\u001b[0m pc \u001b[38;5;241m=\u001b[39m \u001b[43mPinecone\u001b[49m\u001b[43m(\u001b[49m\u001b[43mapi_key\u001b[49m\u001b[38;5;241;43m=\u001b[39;49m\u001b[43mos\u001b[49m\u001b[38;5;241;43m.\u001b[39;49m\u001b[43mgetenv\u001b[49m\u001b[43m(\u001b[49m\u001b[38;5;124;43m'\u001b[39;49m\u001b[38;5;124;43mPINECONE_API_KEY\u001b[39;49m\u001b[38;5;124;43m'\u001b[39;49m\u001b[43m)\u001b[49m\u001b[43m)\u001b[49m\n\u001b[1;32m     25\u001b[0m index_name \u001b[38;5;241m=\u001b[39m \u001b[38;5;124m\"\u001b[39m\u001b[38;5;124mtextiles-hci-01\u001b[39m\u001b[38;5;124m\"\u001b[39m \n\u001b[1;32m     26\u001b[0m index \u001b[38;5;241m=\u001b[39m pc\u001b[38;5;241m.\u001b[39mIndex(index_name)\n",
      "File \u001b[0;32m~/Documents/UW/TECHIN 510/final/.venv/lib/python3.9/site-packages/pinecone/control/pinecone.py:95\u001b[0m, in \u001b[0;36mPinecone.__init__\u001b[0;34m(self, api_key, host, config, additional_headers, pool_threads, index_api, **kwargs)\u001b[0m\n\u001b[1;32m     93\u001b[0m         \u001b[38;5;28mself\u001b[39m\u001b[38;5;241m.\u001b[39mconfig \u001b[38;5;241m=\u001b[39m configKwarg\n\u001b[1;32m     94\u001b[0m \u001b[38;5;28;01melse\u001b[39;00m:\n\u001b[0;32m---> 95\u001b[0m     \u001b[38;5;28mself\u001b[39m\u001b[38;5;241m.\u001b[39mconfig \u001b[38;5;241m=\u001b[39m \u001b[43mPineconeConfig\u001b[49m\u001b[38;5;241;43m.\u001b[39;49m\u001b[43mbuild\u001b[49m\u001b[43m(\u001b[49m\u001b[43mapi_key\u001b[49m\u001b[38;5;241;43m=\u001b[39;49m\u001b[43mapi_key\u001b[49m\u001b[43m,\u001b[49m\u001b[43m \u001b[49m\u001b[43mhost\u001b[49m\u001b[38;5;241;43m=\u001b[39;49m\u001b[43mhost\u001b[49m\u001b[43m,\u001b[49m\u001b[43m \u001b[49m\u001b[43madditional_headers\u001b[49m\u001b[38;5;241;43m=\u001b[39;49m\u001b[43madditional_headers\u001b[49m\u001b[43m,\u001b[49m\u001b[43m \u001b[49m\u001b[38;5;241;43m*\u001b[39;49m\u001b[38;5;241;43m*\u001b[39;49m\u001b[43mkwargs\u001b[49m\u001b[43m)\u001b[49m\n\u001b[1;32m     97\u001b[0m \u001b[38;5;28mself\u001b[39m\u001b[38;5;241m.\u001b[39mpool_threads \u001b[38;5;241m=\u001b[39m pool_threads\n\u001b[1;32m     98\u001b[0m \u001b[38;5;28;01mif\u001b[39;00m index_api:\n",
      "File \u001b[0;32m~/Documents/UW/TECHIN 510/final/.venv/lib/python3.9/site-packages/pinecone/config/pinecone_config.py:24\u001b[0m, in \u001b[0;36mPineconeConfig.build\u001b[0;34m(api_key, host, additional_headers, **kwargs)\u001b[0m\n\u001b[1;32m     21\u001b[0m   \u001b[38;5;28;01mexcept\u001b[39;00m \u001b[38;5;167;01mException\u001b[39;00m \u001b[38;5;28;01mas\u001b[39;00m e:\n\u001b[1;32m     22\u001b[0m     logger\u001b[38;5;241m.\u001b[39mwarn(\u001b[38;5;124mf\u001b[39m\u001b[38;5;124m'\u001b[39m\u001b[38;5;124mIgnoring PINECONE_ADDITIONAL_HEADERS: \u001b[39m\u001b[38;5;132;01m{\u001b[39;00me\u001b[38;5;132;01m}\u001b[39;00m\u001b[38;5;124m'\u001b[39m)\n\u001b[0;32m---> 24\u001b[0m \u001b[38;5;28;01mreturn\u001b[39;00m \u001b[43mConfigBuilder\u001b[49m\u001b[38;5;241;43m.\u001b[39;49m\u001b[43mbuild\u001b[49m\u001b[43m(\u001b[49m\u001b[43mapi_key\u001b[49m\u001b[38;5;241;43m=\u001b[39;49m\u001b[43mapi_key\u001b[49m\u001b[43m,\u001b[49m\u001b[43m \u001b[49m\u001b[43mhost\u001b[49m\u001b[38;5;241;43m=\u001b[39;49m\u001b[43mhost\u001b[49m\u001b[43m,\u001b[49m\u001b[43m \u001b[49m\u001b[43madditional_headers\u001b[49m\u001b[38;5;241;43m=\u001b[39;49m\u001b[43madditional_headers\u001b[49m\u001b[43m,\u001b[49m\u001b[43m \u001b[49m\u001b[38;5;241;43m*\u001b[39;49m\u001b[38;5;241;43m*\u001b[39;49m\u001b[43mkwargs\u001b[49m\u001b[43m)\u001b[49m\n",
      "File \u001b[0;32m~/Documents/UW/TECHIN 510/final/.venv/lib/python3.9/site-packages/pinecone/config/config.py:45\u001b[0m, in \u001b[0;36mConfigBuilder.build\u001b[0;34m(api_key, host, openapi_config, additional_headers, **kwargs)\u001b[0m\n\u001b[1;32m     42\u001b[0m host \u001b[38;5;241m=\u001b[39m normalize_host(host)\n\u001b[1;32m     44\u001b[0m \u001b[38;5;28;01mif\u001b[39;00m \u001b[38;5;129;01mnot\u001b[39;00m api_key:\n\u001b[0;32m---> 45\u001b[0m     \u001b[38;5;28;01mraise\u001b[39;00m PineconeConfigurationError(\u001b[38;5;124m\"\u001b[39m\u001b[38;5;124mYou haven\u001b[39m\u001b[38;5;124m'\u001b[39m\u001b[38;5;124mt specified an Api-Key.\u001b[39m\u001b[38;5;124m\"\u001b[39m)\n\u001b[1;32m     46\u001b[0m \u001b[38;5;28;01mif\u001b[39;00m \u001b[38;5;129;01mnot\u001b[39;00m host:\n\u001b[1;32m     47\u001b[0m     \u001b[38;5;28;01mraise\u001b[39;00m PineconeConfigurationError(\u001b[38;5;124m\"\u001b[39m\u001b[38;5;124mYou haven\u001b[39m\u001b[38;5;124m'\u001b[39m\u001b[38;5;124mt specified a host.\u001b[39m\u001b[38;5;124m\"\u001b[39m)\n",
      "\u001b[0;31mPineconeConfigurationError\u001b[0m: You haven't specified an Api-Key."
     ]
    }
   ],
   "source": [
    "from openai import OpenAI\n",
    "from pinecone import Pinecone\n",
    "from dotenv import load_dotenv\n",
    "import os\n",
    "load_dotenv()\n",
    "\n",
    "openai_client = OpenAI(\n",
    "    api_key=os.getenv(\"OPENAI_API_KEY\"),\n",
    "    base_url=os.getenv(\"OPENAI_API_BASE\")\n",
    ")\n",
    "\n",
    "user_question = \"what is possible with embroidery in HCI textiles research?\"\n",
    "\n",
    "# use OpenAI API text-embedding-3-small to get embeddings for a question\n",
    "response = openai_client.embeddings.create(\n",
    "    input=user_question,\n",
    "    model=\"text-embedding-3-small\" \n",
    ")\n",
    "question_vector = response.data[0].embedding\n",
    "\n",
    "# use Pinecone to search for the most relevant papers\n",
    "pc = Pinecone(api_key=os.getenv('PINECONE_API_KEY'))\n",
    "index_name = \"textiles-hci-01\" \n",
    "index = pc.Index(index_name)\n",
    "\n",
    "# search for the most relevant papers\n",
    "# index.query(vector=[0.1, 0.2, 0.3], top_k=10, namespace='my_namespace')\n",
    "query_results = index.query(\n",
    "    top_k=5, # top 5 most relevant papers\n",
    "    vector=question_vector, \n",
    "    includeValues=True,\n",
    "    includeMetadata=True,\n",
    "    namespace=\"pdf\"\n",
    "    # filter: { genre: { '$eq': 'action' }}\n",
    "    )  \n",
    "\n",
    "# get the metadata of the most relevant papers\n",
    "# print(query_results)\n",
    "# contexts = [item['metadata']['abstract'] for item in query_results['matches']]\n",
    "contexts = [item['metadata']['text'] for item in query_results['matches']]\n",
    "dois = [item['metadata']['doi'] for item in query_results['matches']]\n",
    "print(dois)\n",
    "\n",
    "# combine the contexts and the question\n",
    "context_combined = \"\\n\".join(contexts)\n",
    "chat_input = f\"Context: {context_combined}\\nQuestion: {user_question}\"\n",
    "\n",
    "response = openai_client.chat.completions.create(\n",
    "  model=\"gpt-3.5-turbo\", \n",
    "  messages=[\n",
    "    {\"role\": \"system\", \"content\": \"You are a helpful research assistant and an expert in textile research and HCI research.\"},\n",
    "    {\"role\": \"user\", \"content\": chat_input}\n",
    "  ],\n",
    "#   prompt=chat_input,\n",
    "  max_tokens=1000 # limit the response to 1000 tokens\n",
    ")\n",
    "\n",
    "# get the answer\n",
    "answer_content = response.choices[0].message.content  # Access the 'content' attribute of the message\n",
    "print(answer_content)"
   ]
  },
  {
   "cell_type": "code",
   "execution_count": 6,
   "metadata": {},
   "outputs": [
    {
     "name": "stdout",
     "output_type": "stream",
     "text": [
      "500 Internal Server Error: The server encountered an internal error and was unable to complete your request. Either the server is overloaded or there is an error in the application.\n"
     ]
    }
   ],
   "source": [
    "import requests\n",
    "\n",
    "# 替换以下 URL 为你的 Cloud Function 的实际 URL\n",
    "# url = \"https://showmessage-lebwgsie4q-uc.a.run.app\"\n",
    "url = \"https://texverse-ai-qa-lebwgsie4q-uc.a.run.app\"\n",
    "\n",
    "# 替换这里的查询参数为你的问题\n",
    "params = {'text': 'what is possible with knitting in HCI textiles research?'}\n",
    "\n",
    "response = requests.get(url, params=params)\n",
    "\n",
    "# 输出响应内容\n",
    "print(response.text)"
   ]
  },
  {
   "cell_type": "code",
   "execution_count": 15,
   "metadata": {},
   "outputs": [
    {
     "data": {
      "text/plain": [
       "''"
      ]
     },
     "execution_count": 15,
     "metadata": {},
     "output_type": "execute_result"
    }
   ],
   "source": [
    "response.text"
   ]
  },
  {
   "cell_type": "code",
   "execution_count": 5,
   "metadata": {},
   "outputs": [
    {
     "data": {
      "text/plain": [
       "'1213\\n\\n ### DOIs of the most relevant papers:\\nhttps://doi.org/10.1145/3559400.3562001\\n - https://doi.org/10.1145/3559400.3562002\\n - https://doi.org/10.1145/3559400.3562003\\n - https://doi.org/10.1145/3559400.3562004\\n - https://doi.org/10.1145/3559400.3562005'"
      ]
     },
     "execution_count": 5,
     "metadata": {},
     "output_type": "execute_result"
    }
   ],
   "source": [
    "dois = [\"https://doi.org/10.1145/3559400.3562001\", \"https://doi.org/10.1145/3559400.3562002\", \"https://doi.org/10.1145/3559400.3562003\", \"https://doi.org/10.1145/3559400.3562004\", \"https://doi.org/10.1145/3559400.3562005\"]\n",
    "answer = \"1213\"\n",
    "answer = f\"{answer}\\n\\n ### DOIs of the most relevant papers:\\n\" + \"\\n - \".join(dois)\n",
    "answer"
   ]
  },
  {
   "cell_type": "code",
   "execution_count": null,
   "metadata": {},
   "outputs": [],
   "source": []
  }
 ],
 "metadata": {
  "kernelspec": {
   "display_name": ".venv",
   "language": "python",
   "name": "python3"
  },
  "language_info": {
   "codemirror_mode": {
    "name": "ipython",
    "version": 3
   },
   "file_extension": ".py",
   "mimetype": "text/x-python",
   "name": "python",
   "nbconvert_exporter": "python",
   "pygments_lexer": "ipython3",
   "version": "3.9.13"
  }
 },
 "nbformat": 4,
 "nbformat_minor": 2
}
