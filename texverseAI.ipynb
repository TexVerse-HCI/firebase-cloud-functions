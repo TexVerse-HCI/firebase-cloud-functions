{
 "cells": [
  {
   "cell_type": "code",
   "execution_count": 14,
   "metadata": {},
   "outputs": [
    {
     "data": {
      "text/plain": [
       "True"
      ]
     },
     "execution_count": 14,
     "metadata": {},
     "output_type": "execute_result"
    }
   ],
   "source": [
    "from openai import OpenAI\n",
    "from pinecone import Pinecone\n",
    "from dotenv import load_dotenv\n",
    "import os\n",
    "load_dotenv()"
   ]
  },
  {
   "cell_type": "code",
   "execution_count": 24,
   "metadata": {},
   "outputs": [
    {
     "name": "stdout",
     "output_type": "stream",
     "text": [
      "['[https://doi.org/10.1145/3313831.3376305](https://doi.org/10.1145/3313831.3376305)', '[https://doi.org/10.1145/2347504.2347542](https://doi.org/10.1145/2347504.2347542)', '[https://doi.org/10.1145/3563657.3596086](https://doi.org/10.1145/3563657.3596086)', '[https://doi.org/10.1145/3544548.3581156](https://doi.org/10.1145/3544548.3581156)', '[https://doi.org/10.1145/3563657.3596086](https://doi.org/10.1145/3563657.3596086)']\n",
      "Embroidery in HCI textiles research offers a wide range of possibilities due to its versatility and unique properties. Some potential applications and advancements that can be explored with embroidery in HCI textiles research include:\n",
      "\n",
      "1. **Integration of Electronics:** Embroidery can be used to seamlessly integrate electronic components such as sensors, actuators, and conductive threads into textiles. This allows for the creation of interactive garments and accessories with embedded technology for various applications including health monitoring, gesture recognition, and smart clothing.\n",
      "\n",
      "2. **Flexible and Customizable Interfaces:** Embroidery enables the creation of flexible and customizable textile interfaces that can adapt to different body shapes and movements. This makes it suitable for developing personalized wearable devices that provide a comfortable and natural interaction experience for users.\n",
      "\n",
      "3. **Enhanced Aesthetics and Functionality:** Embroidery can be used to enhance the aesthetics and functionality of textile products by incorporating decorative patterns, textures, and visual feedback elements. This can result in visually appealing and interactive textiles that serve both practical and ornamental purposes.\n",
      "\n",
      "4. **Embroidered Circuitry and Functional Structures:** Embroidery allows for the embroidery of conductive traces and circuits directly onto fabrics, enabling the creation of functional structures such as antennas, electrodes, and sensors. This opens up opportunities for developing innovative textiles with embedded technology for communication, sensing, and actuation.\n",
      "\n",
      "5. **Seamless Integration into Everyday Objects:** Embroidery facilitates the seamless integration of technology into everyday objects such as furniture, home décor, and accessories. By embedding electronic components discreetly within embroidered designs, it is possible to create interactive textiles that blend harmoniously into various environments.\n",
      "\n",
      "6. **Exploration of Novel Interaction Techniques:** Embroidery can be used to explore novel interaction techniques on textiles, such as touch-sensitive surfaces, gesture recognition, and haptic feedback. By combining traditional embroidery techniques with interactive technologies, researchers can investigate new ways for users to engage with textile interfaces.\n",
      "\n",
      "Overall, embroidery in HCI textiles research offers a rich landscape for innovation, creativity, and interdisciplinary collaboration, paving the way for the development of interactive textiles that are not only functional but also aesthetically pleasing and user-friendly.\n",
      "\n",
      "### DOIs of the most relevant papers:\n",
      "- [https://doi.org/10.1145/3313831.3376305](https://doi.org/10.1145/3313831.3376305)\n",
      "- [https://doi.org/10.1145/2347504.2347542](https://doi.org/10.1145/2347504.2347542)\n",
      "- [https://doi.org/10.1145/3563657.3596086](https://doi.org/10.1145/3563657.3596086)\n",
      "- [https://doi.org/10.1145/3544548.3581156](https://doi.org/10.1145/3544548.3581156)\n",
      "- [https://doi.org/10.1145/3563657.3596086](https://doi.org/10.1145/3563657.3596086)\n"
     ]
    }
   ],
   "source": [
    "from openai import OpenAI\n",
    "from pinecone import Pinecone\n",
    "from dotenv import load_dotenv\n",
    "import os\n",
    "load_dotenv()\n",
    "\n",
    "openai_client = OpenAI(\n",
    "    api_key=os.getenv(\"OPENAI_API_KEY\"),\n",
    "    base_url=os.getenv(\"OPENAI_API_BASE\")\n",
    ")\n",
    "\n",
    "user_question = \"what is possible with embroidery in HCI textiles research?\"\n",
    "\n",
    "# use OpenAI API text-embedding-3-small to get embeddings for a question\n",
    "response = openai_client.embeddings.create(\n",
    "    input=user_question,\n",
    "    model=\"text-embedding-3-small\" \n",
    ")\n",
    "question_vector = response.data[0].embedding\n",
    "\n",
    "# use Pinecone to search for the most relevant papers\n",
    "pc = Pinecone(api_key=os.getenv('PINECONE_API_KEY'))\n",
    "index_name = \"textiles-hci-01\" \n",
    "index = pc.Index(index_name)\n",
    "\n",
    "# search for the most relevant papers\n",
    "# index.query(vector=[0.1, 0.2, 0.3], top_k=10, namespace='my_namespace')\n",
    "query_results = index.query(\n",
    "    top_k=5, # top 5 most relevant papers\n",
    "    vector=question_vector, \n",
    "    includeValues=True,\n",
    "    includeMetadata=True,\n",
    "    namespace=\"pdf\"\n",
    "    # filter: { genre: { '$eq': 'action' }}\n",
    "    )  \n",
    "\n",
    "# get the metadata of the most relevant papers\n",
    "# print(query_results)\n",
    "# contexts = [item['metadata']['abstract'] for item in query_results['matches']]\n",
    "contexts = [item['metadata']['text'] for item in query_results['matches']]\n",
    "dois = [f\"[https://doi.org/10.1145/{item['metadata']['doi']}](https://doi.org/10.1145/{item['metadata']['doi']})\" for item in query_results['matches']]\n",
    "print(dois)\n",
    "\n",
    "# combine the contexts and the question\n",
    "context_combined = \"\\n\".join(contexts)\n",
    "chat_input = f\"Context: {context_combined}\\nQuestion: {user_question}\"\n",
    "\n",
    "response = openai_client.chat.completions.create(\n",
    "  model=\"gpt-3.5-turbo\", \n",
    "  messages=[\n",
    "    {\"role\": \"system\", \"content\": \"You are a helpful research assistant and an expert in textile research and HCI research.\"},\n",
    "    {\"role\": \"user\", \"content\": chat_input}\n",
    "  ],\n",
    "#   prompt=chat_input,\n",
    "  max_tokens=1000 # limit the response to 1000 tokens\n",
    ")\n",
    "\n",
    "# get the answer\n",
    "# get the answer\n",
    "answer = response.choices[0].message.content\n",
    "\n",
    "# include the DOIs of the most relevant papers\n",
    "answer = f\"{answer}\\n\\n### DOIs of the most relevant papers:\\n\" + \"- \" + \"\\n- \".join(dois)\n",
    "\n",
    "print(answer)"
   ]
  },
  {
   "cell_type": "code",
   "execution_count": 6,
   "metadata": {},
   "outputs": [
    {
     "name": "stdout",
     "output_type": "stream",
     "text": [
      "500 Internal Server Error: The server encountered an internal error and was unable to complete your request. Either the server is overloaded or there is an error in the application.\n"
     ]
    }
   ],
   "source": [
    "import requests\n",
    "\n",
    "# cloud function URL\n",
    "url = \"https://texverse-ai-qa-lebwgsie4q-uc.a.run.app\"\n",
    "\n",
    "# user question\n",
    "params = {'text': 'what is possible with knitting in HCI textiles research?'}\n",
    "\n",
    "response = requests.get(url, params=params)\n",
    "\n",
    "print(response.text)"
   ]
  },
  {
   "cell_type": "code",
   "execution_count": 15,
   "metadata": {},
   "outputs": [
    {
     "data": {
      "text/plain": [
       "''"
      ]
     },
     "execution_count": 15,
     "metadata": {},
     "output_type": "execute_result"
    }
   ],
   "source": [
    "response.text"
   ]
  },
  {
   "cell_type": "code",
   "execution_count": 5,
   "metadata": {},
   "outputs": [
    {
     "data": {
      "text/plain": [
       "'1213\\n\\n ### DOIs of the most relevant papers:\\nhttps://doi.org/10.1145/3559400.3562001\\n - https://doi.org/10.1145/3559400.3562002\\n - https://doi.org/10.1145/3559400.3562003\\n - https://doi.org/10.1145/3559400.3562004\\n - https://doi.org/10.1145/3559400.3562005'"
      ]
     },
     "execution_count": 5,
     "metadata": {},
     "output_type": "execute_result"
    }
   ],
   "source": [
    "dois = [\"https://doi.org/10.1145/3559400.3562001\", \"https://doi.org/10.1145/3559400.3562002\", \"https://doi.org/10.1145/3559400.3562003\", \"https://doi.org/10.1145/3559400.3562004\", \"https://doi.org/10.1145/3559400.3562005\"]\n",
    "answer = \"1213\"\n",
    "answer = f\"{answer}\\n\\n ### DOIs of the most relevant papers:\\n\" + \"\\n - \".join(dois)\n",
    "answer"
   ]
  },
  {
   "cell_type": "code",
   "execution_count": null,
   "metadata": {},
   "outputs": [],
   "source": []
  }
 ],
 "metadata": {
  "kernelspec": {
   "display_name": ".venv",
   "language": "python",
   "name": "python3"
  },
  "language_info": {
   "codemirror_mode": {
    "name": "ipython",
    "version": 3
   },
   "file_extension": ".py",
   "mimetype": "text/x-python",
   "name": "python",
   "nbconvert_exporter": "python",
   "pygments_lexer": "ipython3",
   "version": "3.9.13"
  }
 },
 "nbformat": 4,
 "nbformat_minor": 2
}
