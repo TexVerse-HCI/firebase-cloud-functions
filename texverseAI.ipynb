{
 "cells": [
  {
   "cell_type": "code",
   "execution_count": 19,
   "metadata": {},
   "outputs": [
    {
     "name": "stdout",
     "output_type": "stream",
     "text": [
      "Embroidery presents a wide range of possibilities in HCI textiles research. Some potential applications and opportunities include:\n",
      "\n",
      "1. **Integration of Technology**: Embroidery can be used to embed technology, such as conductive threads or sensors, seamlessly into textiles without compromising the integrity of the garment. This allows for the creation of interactive textiles that can sense touch, gestures, or other inputs, enabling novel interaction possibilities.\n",
      "\n",
      "2. **Flexible and Organic Structures**: The flexibility and application flexibility of embroidery allow for the creation of non-rigid formations and stable two-dimensional and three-dimensional structures. This versatility can be leveraged to develop creatively shaped patterns and structures, enhancing the aesthetics and functionality of the textile interface.\n",
      "\n",
      "3. **Aesthetic Enhancement**: Embroidery can combine aesthetics with function by creating visually appealing patterns and designs that serve as functional elements, such as resistors or logic gates. This integration of form and function adds a layer of visual interest to the interactive textile interfaces, making them visually engaging and attractive to users.\n",
      "\n",
      "4. **Personalization and Customization**: Embroidery offers opportunities for personalization and customization in HCI textiles. Through embroidered patterns, messages, or decorative elements, users can express their individuality and preferences, making the textile interface unique to the user. This personal touch can enhance user engagement and satisfaction with the interactive textile product.\n",
      "\n",
      "5. **Innovative Sensor Applications**: Embroidery can be utilized to create various types of sensors, such as capacitive sensing structures, electromyography electrodes, antennas, and textile coils for sensors. These sensors can enable new interaction modalities and applications in smart textiles, ranging from gesture recognition to biomedical monitoring.\n",
      "\n",
      "6. **Seamless Integration**: Textile-based products with embedded embroidery technology can seamlessly blend into interior environments, offering tactile familiarity and comfort to users. This integration of technology into everyday objects through embroidery enables the development of unobtrusive and user-friendly interactive furnishings that harmonize with the surrounding space.\n",
      "\n",
      "In summary, embroidery in HCI textiles research provides a versatile platform for integrating technology, creating aesthetically pleasing designs, enabling personalization, and exploring innovative sensor applications, ultimately enhancing user experiences with interactive textiles.\n"
     ]
    }
   ],
   "source": [
    "from openai import OpenAI\n",
    "from pinecone import Pinecone\n",
    "from dotenv import load_dotenv\n",
    "import os\n",
    "load_dotenv()\n",
    "\n",
    "openai_client = OpenAI(\n",
    "    # api_key=os.getenv(\"OPENAI_API_KEY\"),\n",
    "    # base_url=os.getenv(\"OPENAI_API_BASE\")\n",
    "    api_key=\"keiQZfkknsPjc22D_s4j3XpvIiGaVRH1dJ2WxgmTuZM\",\n",
    "    base_url=\"https://openai.0x1.tw/api/providers/openai/v1\"\n",
    ")\n",
    "\n",
    "user_question = \"what is possible with embroidery in HCI textiles research?\"\n",
    "\n",
    "# use OpenAI API text-embedding-3-small to get embeddings for a question\n",
    "response = openai_client.embeddings.create(\n",
    "    input=user_question,\n",
    "    model=\"text-embedding-3-small\" \n",
    ")\n",
    "question_vector = response.data[0].embedding\n",
    "\n",
    "# use Pinecone to search for the most relevant papers\n",
    "pc = Pinecone(api_key=os.getenv('PINECONE_API_KEY'))\n",
    "index_name = \"textiles-hci-01\" \n",
    "index = pc.Index(index_name)\n",
    "\n",
    "# search for the most relevant papers\n",
    "# index.query(vector=[0.1, 0.2, 0.3], top_k=10, namespace='my_namespace')\n",
    "query_results = index.query(\n",
    "    top_k=5, # top 5 most relevant papers\n",
    "    vector=question_vector, \n",
    "    includeValues=True,\n",
    "    includeMetadata=True,\n",
    "    namespace=\"pdf\"\n",
    "    # filter: { genre: { '$eq': 'action' }}\n",
    "    )  \n",
    "\n",
    "# get the metadata of the most relevant papers\n",
    "# print(query_results)\n",
    "# contexts = [item['metadata']['abstract'] for item in query_results['matches']]\n",
    "contexts = [item['metadata']['text'] for item in query_results['matches']]\n",
    "\n",
    "# combine the contexts and the question\n",
    "context_combined = \"\\n\".join(contexts)\n",
    "chat_input = f\"Context: {context_combined}\\nQuestion: {user_question}\"\n",
    "\n",
    "response = openai_client.chat.completions.create(\n",
    "  model=\"gpt-3.5-turbo\", \n",
    "  messages=[\n",
    "    {\"role\": \"system\", \"content\": \"You are a helpful research assistant and an expert in textile research and HCI research.\"},\n",
    "    {\"role\": \"user\", \"content\": chat_input}\n",
    "  ],\n",
    "#   prompt=chat_input,\n",
    "  max_tokens=1000 # limit the response to 1000 tokens\n",
    ")\n",
    "\n",
    "# get the answer\n",
    "answer_content = response.choices[0].message.content  # Access the 'content' attribute of the message\n",
    "print(answer_content)"
   ]
  },
  {
   "cell_type": "code",
   "execution_count": 2,
   "metadata": {},
   "outputs": [
    {
     "name": "stdout",
     "output_type": "stream",
     "text": [
      "In the field of HCI textiles research, knitting offers a wide range of possibilities for creating interactive and innovative textile interfaces. Some possibilities include:\n",
      "\n",
      "1. **Integration of Sensors:** Knitting allows for the integration of sensors, such as capacitive and resistive sensing textiles, into knitted structures. This enables the fabrication of interactive textile interfaces that can detect touch, gestures, and other physical interactions.\n",
      "\n",
      "2. **Customization and Personalization:** Knitting provides the flexibility to create bespoke textile products that can be tailored to individual users' needs and preferences. This customization can enhance user experience and engagement with interactive textiles.\n",
      "\n",
      "3. **Shape-changing and Color-changing Capabilities:** Knitting techniques can be used to explore textiles with dynamic properties, such as shape-changing and color-changing capabilities. This opens up opportunities for creating textiles that respond to stimuli or user interactions in real-time.\n",
      "\n",
      "4. **Responsive Technologies:** Knitting can be used to embed responsive technologies, such as conductive threads and polymer coatings, into textiles. This integration enables the development of interactive knitted textiles that can sense and respond to various inputs.\n",
      "\n",
      "5. **Large-scale Output:** While most current knitted e-textiles are relatively small in scale, there is potential to leverage industrial knitting machines for rapid and large-scale production of interactive knitted textiles. This can enable the creation of seamless interactive knitted products on a larger scale.\n",
      "\n",
      "6. **Innovative Materials:** Knitting offers the opportunity to experiment with animate materials, such as heat-reactive yarn, and explore their potential in creating unique and dynamic textile forms. As new materials are developed for use in textiles, there are possibilities for creating innovative and interactive knitted products.\n",
      "\n",
      "7. **Sustainability and Recycling:** Knitting can also play a role in sustainable textile production by using recyclable materials and exploring innovative manufacturing processes. There is a growing interest in sustainable and recyclable textiles, and knitting can contribute to this trend through the use of durable and recyclable materials in textile production.\n",
      "\n",
      "Overall, knitting in HCI textiles research offers a rich landscape of possibilities for creating interactive, customizable, and sustainable textile interfaces that can enhance user experiences and engagement in various contexts.\n"
     ]
    }
   ],
   "source": [
    "import requests\n",
    "\n",
    "# 替换以下 URL 为你的 Cloud Function 的实际 URL\n",
    "# url = \"https://showmessage-lebwgsie4q-uc.a.run.app\"\n",
    "url = \"https://texverse-ai-qa-lebwgsie4q-uc.a.run.app\"\n",
    "\n",
    "# 替换这里的查询参数为你的问题\n",
    "params = {'text': 'what is possible with knitting in HCI textiles research?'}\n",
    "\n",
    "response = requests.get(url, params=params)\n",
    "\n",
    "# 输出响应内容\n",
    "print(response.text)"
   ]
  },
  {
   "cell_type": "code",
   "execution_count": 15,
   "metadata": {},
   "outputs": [
    {
     "data": {
      "text/plain": [
       "''"
      ]
     },
     "execution_count": 15,
     "metadata": {},
     "output_type": "execute_result"
    }
   ],
   "source": [
    "response.text"
   ]
  },
  {
   "cell_type": "code",
   "execution_count": 5,
   "metadata": {},
   "outputs": [
    {
     "data": {
      "text/plain": [
       "'1213\\n\\n ### DOIs of the most relevant papers:\\nhttps://doi.org/10.1145/3559400.3562001\\n - https://doi.org/10.1145/3559400.3562002\\n - https://doi.org/10.1145/3559400.3562003\\n - https://doi.org/10.1145/3559400.3562004\\n - https://doi.org/10.1145/3559400.3562005'"
      ]
     },
     "execution_count": 5,
     "metadata": {},
     "output_type": "execute_result"
    }
   ],
   "source": [
    "dois = [\"https://doi.org/10.1145/3559400.3562001\", \"https://doi.org/10.1145/3559400.3562002\", \"https://doi.org/10.1145/3559400.3562003\", \"https://doi.org/10.1145/3559400.3562004\", \"https://doi.org/10.1145/3559400.3562005\"]\n",
    "answer = \"1213\"\n",
    "answer = f\"{answer}\\n\\n ### DOIs of the most relevant papers:\\n\" + \"\\n - \".join(dois)\n",
    "answer"
   ]
  },
  {
   "cell_type": "code",
   "execution_count": null,
   "metadata": {},
   "outputs": [],
   "source": []
  }
 ],
 "metadata": {
  "kernelspec": {
   "display_name": ".venv",
   "language": "python",
   "name": "python3"
  },
  "language_info": {
   "codemirror_mode": {
    "name": "ipython",
    "version": 3
   },
   "file_extension": ".py",
   "mimetype": "text/x-python",
   "name": "python",
   "nbconvert_exporter": "python",
   "pygments_lexer": "ipython3",
   "version": "3.9.13"
  }
 },
 "nbformat": 4,
 "nbformat_minor": 2
}
